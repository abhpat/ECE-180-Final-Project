{
 "cells": [
  {
   "cell_type": "code",
   "execution_count": 1,
   "metadata": {
    "collapsed": true
   },
   "outputs": [],
   "source": [
    "import os\n",
    "import pandas as pd\n",
    "import numpy as np\n",
    "E09=pd.read_csv('SD2009.txt')\n",
    "E10=pd.read_csv('SD2010.txt')\n",
    "E11=pd.read_csv('SD2011.txt')\n",
    "E12=pd.read_csv('SD2012.txt')\n",
    "E13=pd.read_csv('SD2013.txt')\n",
    "E14=pd.read_csv('SD2014.txt')\n",
    "\n",
    "\n"
   ]
  },
  {
   "cell_type": "code",
   "execution_count": 2,
   "metadata": {
    "collapsed": true
   },
   "outputs": [],
   "source": [
    "keep_col = [\n",
    "    \"District Code\",\n",
    "    \"Mean Scale Score\",\n",
    "    \"Percentage Advanced\",\n",
    "    \"Percentage Proficient\",\n",
    "    \"Percentage Basic\",\n",
    "    \"Percentage Below Basic\",\n",
    "    \"Percentage Far Below Basic\"]\n",
    "t09=list(E09)\n",
    "for x in range(len(t09)):\n",
    "    if t09[x] in keep_col:\n",
    "        pass\n",
    "    else:\n",
    "        E09.drop(t09[x],inplace=True,axis=1)\n",
    "t10=list(E10)\n",
    "for x in range(len(t10)):\n",
    "    if t10[x] in keep_col:\n",
    "        pass\n",
    "    else:\n",
    "        E10.drop(t10[x],inplace=True,axis=1)\n",
    "t11=list(E11)\n",
    "for x in range(len(t11)):\n",
    "    if t11[x] in keep_col:\n",
    "        pass\n",
    "    else:\n",
    "        E11.drop(t11[x],inplace=True,axis=1)\n",
    "t12=list(E12)\n",
    "for x in range(len(t12)):\n",
    "    if t12[x] in keep_col:\n",
    "        pass\n",
    "    else:\n",
    "        E12.drop(t12[x],inplace=True,axis=1)\n",
    "        \n",
    "t13=list(E13)\n",
    "for x in range(len(t13)):\n",
    "    if t13[x] in keep_col:\n",
    "        pass\n",
    "    else:\n",
    "        E13.drop(t13[x],inplace=True,axis=1)\n",
    "t14=list(E14)\n",
    "for x in range(len(t14)):\n",
    "    if t14[x] in keep_col:\n",
    "        pass\n",
    "    else:\n",
    "        E14.drop(t14[x],inplace=True,axis=1)"
   ]
  },
  {
   "cell_type": "code",
   "execution_count": 3,
   "metadata": {},
   "outputs": [
    {
     "name": "stdout",
     "output_type": "stream",
     "text": [
      "(105621, 7)\n",
      "(115479, 7)\n",
      "(119885, 7)\n",
      "(123160, 7)\n",
      "(107566, 7)\n",
      "(8132, 7)\n"
     ]
    }
   ],
   "source": [
    "E09=E09.dropna()\n",
    "E10=E10.dropna()\n",
    "E11=E11.dropna()\n",
    "E12=E12.dropna()\n",
    "E13=E13.dropna()\n",
    "E14=E14.dropna()\n",
    "print(E09.shape)\n",
    "print(E10.shape)\n",
    "print(E11.shape)\n",
    "print(E12.shape)\n",
    "print(E13.shape)\n",
    "print(E14.shape)\n",
    "E09.to_csv('E09.txt', sep='\\t', index=False)\n",
    "E10.to_csv('E10.txt', sep='\\t', index=False)\n",
    "E11.to_csv('E11.txt', sep='\\t', index=False)\n",
    "E12.to_csv('E12.txt', sep='\\t', index=False)\n",
    "E13.to_csv('E13.txt', sep='\\t', index=False)\n",
    "E14.to_csv('E14.txt', sep='\\t', index=False)\n",
    "#E09.to_pickle('E09.pkl')\n",
    "#E10.to_pickle('E10.pkl')\n",
    "#E11.to_pickle('E11.pkl')\n",
    "#E12.to_pickle('E12.pkl')\n",
    "#E13.to_pickle('E13.pkl')\n",
    "#E14.to_pickle('E14.pkl')\n"
   ]
  },
  {
   "cell_type": "code",
   "execution_count": 4,
   "metadata": {
    "collapsed": true
   },
   "outputs": [],
   "source": [
    "xls = pd.ExcelFile('HIGH-SCHOOL-AP-DATA.xlsx')\n",
    "df09 = pd.read_excel(xls, '2009-2010')\n",
    "df10 = pd.read_excel(xls, '2010-2011')\n",
    "df11 = pd.read_excel(xls, '2011-2012')\n",
    "df12 = pd.read_excel(xls, '2012-2013')\n",
    "df13 = pd.read_excel(xls, '2013-2014')\n",
    "df14 = pd.read_excel(xls, '2014-2015')"
   ]
  },
  {
   "cell_type": "code",
   "execution_count": 5,
   "metadata": {},
   "outputs": [
    {
     "name": "stdout",
     "output_type": "stream",
     "text": [
      "(23, 2)\n",
      "(23, 2)\n",
      "(24, 2)\n",
      "(20, 2)\n",
      "(21, 2)\n",
      "(21, 2)\n"
     ]
    }
   ],
   "source": [
    "df09.drop('area code',inplace=True,axis=1)\n",
    "df09.drop('school',inplace=True,axis=1)\n",
    "df10.drop('area code',inplace=True,axis=1)\n",
    "df10.drop('school',inplace=True,axis=1)\n",
    "df11.drop('area code',inplace=True,axis=1)\n",
    "df11.drop('school',inplace=True,axis=1)\n",
    "df12.drop('area code',inplace=True,axis=1)\n",
    "df12.drop('school',inplace=True,axis=1)\n",
    "df13.drop('area code',inplace=True,axis=1)\n",
    "df13.drop('school',inplace=True,axis=1)\n",
    "df14.drop('area code',inplace=True,axis=1)\n",
    "df14.drop('school',inplace=True,axis=1)\n",
    "df09=df09.dropna()\n",
    "df10=df10.dropna()\n",
    "df11=df11.dropna()\n",
    "df12=df12.dropna()\n",
    "df13=df13.dropna()\n",
    "df14=df14.dropna()\n",
    "print(df09.shape)\n",
    "print(df10.shape)\n",
    "print(df11.shape)\n",
    "print(df12.shape)\n",
    "print(df13.shape)\n",
    "print(df14.shape)"
   ]
  },
  {
   "cell_type": "code",
   "execution_count": 6,
   "metadata": {
    "collapsed": true
   },
   "outputs": [],
   "source": [
    "df09.to_csv('H09.txt', sep='\\t', index=False)\n",
    "df10.to_csv('H10.txt', sep='\\t', index=False)\n",
    "df11.to_csv('H11.txt', sep='\\t', index=False)\n",
    "df12.to_csv('H12.txt', sep='\\t', index=False)\n",
    "df13.to_csv('H13.txt', sep='\\t', index=False)\n",
    "df14.to_csv('H14.txt', sep='\\t', index=False)\n",
    "#df09.to_pickle('H09.pkl')\n",
    "#df10.to_pickle('H10.pkl')\n",
    "#df11.to_pickle('H11.pkl')\n",
    "#df12.to_pickle('H12.pkl')\n",
    "#df13.to_pickle('H13.pkl')\n",
    "#df14.to_pickle('H14.pkl')"
   ]
  },
  {
   "cell_type": "code",
   "execution_count": 5,
   "metadata": {},
   "outputs": [
    {
     "name": "stdout",
     "output_type": "stream",
     "text": [
      "(84, 65)\n"
     ]
    }
   ],
   "source": [
    "import pandas as pd\n",
    "H = pd.ExcelFile('AP.xlsx')\n",
    "High= pd.read_excel(H, 'Sheet1')\n",
    "print (High.shape)"
   ]
  },
  {
   "cell_type": "code",
   "execution_count": 6,
   "metadata": {},
   "outputs": [
    {
     "name": "stdout",
     "output_type": "stream",
     "text": [
      "(84, 2)\n"
     ]
    }
   ],
   "source": [
    "keep_col = [\n",
    "    \"District Code\",\n",
    "    \"AP pass rate\"]\n",
    "title=list(High)\n",
    "for x in range(len(title)):\n",
    "    if title[x] in keep_col:\n",
    "        pass\n",
    "    else:\n",
    "        High.drop(title[x],inplace=True,axis=1)\n",
    "High=High.dropna()\n",
    "print(High.shape)"
   ]
  },
  {
   "cell_type": "code",
   "execution_count": 7,
   "metadata": {
    "collapsed": true
   },
   "outputs": [],
   "source": [
    "High.to_csv('AP.txt', sep='\\t', index=False)"
   ]
  }
 ],
 "metadata": {
  "kernelspec": {
   "display_name": "Python 3",
   "language": "python",
   "name": "python3"
  },
  "language_info": {
   "codemirror_mode": {
    "name": "ipython",
    "version": 3
   },
   "file_extension": ".py",
   "mimetype": "text/x-python",
   "name": "python",
   "nbconvert_exporter": "python",
   "pygments_lexer": "ipython3",
   "version": "3.6.3"
  }
 },
 "nbformat": 4,
 "nbformat_minor": 2
}
