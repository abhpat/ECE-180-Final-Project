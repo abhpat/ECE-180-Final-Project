{
 "cells": [
  {
   "cell_type": "code",
   "execution_count": 15,
   "metadata": {},
   "outputs": [
    {
     "name": "stdout",
     "output_type": "stream",
     "text": [
      "(18, 9)\n",
      "(18, 3)\n"
     ]
    }
   ],
   "source": [
    "import os\n",
    "import pandas as pd\n",
    "import numpy as np\n",
    "E09=pd.read_csv('FinalE09.txt')\n",
    "E10=pd.read_csv('FinalE10.txt')\n",
    "E11=pd.read_csv('FinalE11.txt')\n",
    "E12=pd.read_csv('FinalE12.txt')\n",
    "E13=pd.read_csv('FinalE13.txt')\n",
    "E14=pd.read_csv('FinalE14.txt')\n",
    "AP=pd.read_csv('finalAP.txt')\n",
    "print(E09.shape)\n",
    "print(AP.shape)"
   ]
  },
  {
   "cell_type": "code",
   "execution_count": 16,
   "metadata": {},
   "outputs": [
    {
     "name": "stdout",
     "output_type": "stream",
     "text": [
      "(18, 1)\n",
      "(18, 6)\n"
     ]
    }
   ],
   "source": [
    "keep_col = [\n",
    "    \"Mean Scale Score\",\n",
    "    \"Percentage Advanced\",\n",
    "    \"Percentage Proficient\",\n",
    "    \"Percentage Basic\",\n",
    "    \"Percentage Below Basic\",\n",
    "    \"Percentage Far Below Basic\"]\n",
    "t09=list(E09)\n",
    "for x in range(len(t09)):\n",
    "    if t09[x] in keep_col:\n",
    "        pass\n",
    "    else:\n",
    "        E09.drop(t09[x],inplace=True,axis=1)\n",
    "t10=list(E10)\n",
    "for x in range(len(t10)):\n",
    "    if t10[x] in keep_col:\n",
    "        pass\n",
    "    else:\n",
    "        E10.drop(t10[x],inplace=True,axis=1)\n",
    "t11=list(E11)\n",
    "for x in range(len(t11)):\n",
    "    if t11[x] in keep_col:\n",
    "        pass\n",
    "    else:\n",
    "        E11.drop(t11[x],inplace=True,axis=1)\n",
    "t12=list(E12)\n",
    "for x in range(len(t12)):\n",
    "    if t12[x] in keep_col:\n",
    "        pass\n",
    "    else:\n",
    "        E12.drop(t12[x],inplace=True,axis=1)\n",
    "        \n",
    "t13=list(E13)\n",
    "for x in range(len(t13)):\n",
    "    if t13[x] in keep_col:\n",
    "        pass\n",
    "    else:\n",
    "        E13.drop(t13[x],inplace=True,axis=1)\n",
    "t14=list(E14)\n",
    "for x in range(len(t14)):\n",
    "    if t14[x] in keep_col:\n",
    "        pass\n",
    "    else:\n",
    "        E14.drop(t14[x],inplace=True,axis=1)\n",
    "tap=list(AP)\n",
    "AP.drop(tap[0],inplace=True,axis=1)\n",
    "AP.drop(tap[1],inplace=True,axis=1)\n",
    "print(AP.shape)\n",
    "print(E09.shape)"
   ]
  },
  {
   "cell_type": "code",
   "execution_count": 22,
   "metadata": {},
   "outputs": [
    {
     "name": "stdout",
     "output_type": "stream",
     "text": [
      "18\n",
      "6\n"
     ]
    }
   ],
   "source": [
    "Elementary=[]\n",
    "e09=np.zeros((18,6))\n",
    "for i in range(6):\n",
    "    for j in range(18):\n",
    "        e09[j,i]=E09.iat[j,i]\n",
    "Elementary.append(e09)\n",
    "\n",
    "e10=np.zeros((18,6))\n",
    "for i in range(6):\n",
    "    for j in range(18):\n",
    "        e10[j,i]=E10.iat[j,i]\n",
    "Elementary.append(e10)\n",
    "\n",
    "e11=np.zeros((18,6))\n",
    "for i in range(6):\n",
    "    for j in range(18):\n",
    "        e11[j,i]=E11.iat[j,i]\n",
    "Elementary.append(e11)\n",
    "\n",
    "e12=np.zeros((18,6))\n",
    "for i in range(6):\n",
    "    for j in range(18):\n",
    "        e12[j,i]=E12.iat[j,i]\n",
    "Elementary.append(e12)\n",
    "\n",
    "e13=np.zeros((18,6))\n",
    "for i in range(6):\n",
    "    for j in range(18):\n",
    "        e13[j,i]=E13.iat[j,i]\n",
    "Elementary.append(e13)\n",
    "\n",
    "e14=np.zeros((18,6))\n",
    "for i in range(6):\n",
    "    for j in range(18):\n",
    "        e14[j,i]=E14.iat[j,i]\n",
    "Elementary.append(e14)\n",
    "ap=[]\n",
    "for i in range(18):\n",
    "    ap.append(AP.iat[i,0])\n",
    "print(len(ap))\n",
    "print(len(Elementary))"
   ]
  },
  {
   "cell_type": "code",
   "execution_count": 34,
   "metadata": {},
   "outputs": [
    {
     "name": "stdout",
     "output_type": "stream",
     "text": [
      "[[ 0.5044194 ]\n",
      " [ 0.08110739]\n",
      " [-0.31686179]\n",
      " [-0.36241791]\n",
      " [-0.1896258 ]\n",
      " [-0.3129959 ]\n",
      " [-0.14909064]]\n"
     ]
    }
   ],
   "source": [
    "from numpy.linalg import inv\n",
    "X=np.zeros((18,7))\n",
    "for i in range(18):\n",
    "    X[i,0]=1\n",
    "    X[i,1]=Elementary[0][i,0]\n",
    "    X[i,2]=Elementary[0][i,1]\n",
    "    X[i,3]=Elementary[0][i,2]\n",
    "    X[i,4]=Elementary[0][i,3]\n",
    "    X[i,5]=Elementary[0][i,4]\n",
    "    X[i,6]=Elementary[0][i,5]\n",
    "Y=np.zeros((18,1))\n",
    "for i in range(18):\n",
    "    Y[i,0]=ap[i]\n",
    "Theta=np.matmul(np.matmul(inv(np.matmul(X.T,X)),X.T),Y)\n",
    "print(Theta)"
   ]
  },
  {
   "cell_type": "code",
   "execution_count": 44,
   "metadata": {},
   "outputs": [
    {
     "name": "stdout",
     "output_type": "stream",
     "text": [
      "Average Error is: \n",
      "0.135759303129\n"
     ]
    },
    {
     "data": {
      "image/png": "[encoded data removed]",
      "text/plain": [
       "<matplotlib.figure.Figure at 0x11dffa7b8>"
      ]
     },
     "metadata": {},
     "output_type": "display_data"
    }
   ],
   "source": [
    "Predict_result=np.zeros((18,1))\n",
    "for i in range(18):\n",
    "    Predict_result[i,0]=(np.matmul(np.reshape(Theta,(1,7)),np.reshape(X[i,:],(7,1))))\n",
    "MSE=0\n",
    "for i in range(18):\n",
    "    MSE+=np.abs(Y[i,0]-Predict_result[i,0])\n",
    "MSE=MSE/18\n",
    "print('Average Error is: ')\n",
    "print(MSE)\n",
    "import matplotlib.pyplot as plt\n",
    "y_pos = np.arange(18)\n",
    "plt.bar(y_pos,np.reshape(Y,(18,)))\n",
    "plt.bar(y_pos,np.reshape(Predict_result,(18,)))\n",
    "plt.legend(['Real Performance','Predicted Performance'])\n",
    "plt.ylabel('High Shool AP performance')\n",
    "plt.xlabel('District')\n",
    "plt.title('Using 2009 Elemen')\n",
    "plt.show()"
   ]
  }
 ],
 "metadata": {
  "kernelspec": {
   "display_name": "Python 3",
   "language": "python",
   "name": "python3"
  },
  "language_info": {
   "codemirror_mode": {
    "name": "ipython",
    "version": 3
   },
   "file_extension": ".py",
   "mimetype": "text/x-python",
   "name": "python",
   "nbconvert_exporter": "python",
   "pygments_lexer": "ipython3",
   "version": "3.6.3"
  }
 },
 "nbformat": 4,
 "nbformat_minor": 2
}
